{
  "nbformat": 4,
  "nbformat_minor": 0,
  "metadata": {
    "colab": {
      "provenance": []
    },
    "kernelspec": {
      "name": "python3",
      "display_name": "Python 3"
    },
    "language_info": {
      "name": "python"
    }
  },
  "cells": [
    {
      "cell_type": "markdown",
      "source": [
        "#Data Science Tools and Ecosystem\n"
      ],
      "metadata": {
        "id": "wxpiUS_6qubQ"
      }
    },
    {
      "cell_type": "markdown",
      "source": [
        "## Author\n",
        "Santiago Rivera"
      ],
      "metadata": {
        "id": "rdAJy9LC0KCi"
      }
    },
    {
      "cell_type": "markdown",
      "source": [
        "In this notebook, Data Science Tools and Ecosystem are summarized."
      ],
      "metadata": {
        "id": "bpU7-4e8roVl"
      }
    },
    {
      "cell_type": "markdown",
      "source": [
        "**Objectives:**\n",
        "\n",
        "- List popular languages for Data Science.\n",
        "- Introduce key libraries used in Data Science.\n",
        "- Demonstrate basic data manipulation and visualization techniques.\n"
      ],
      "metadata": {
        "id": "RKzWeJvyzlZ8"
      }
    },
    {
      "cell_type": "markdown",
      "source": [
        "Some of the popular languages that Data Scientists use are:\n",
        "\n",
        "1.   Python\n",
        "2.   Scala\n",
        "3.   R"
      ],
      "metadata": {
        "id": "oTYQA7FFuOXf"
      }
    },
    {
      "cell_type": "markdown",
      "source": [
        "Some of the commonly used libraries used by Data Scientists include:\n",
        "\n",
        "\n",
        "1.   Scikit-learn\n",
        "2.   Matplotlib\n",
        "3.   TensorFlow\n",
        "\n"
      ],
      "metadata": {
        "id": "yIVGhQBluxBC"
      }
    },
    {
      "cell_type": "markdown",
      "source": [
        "| Data Science Tools |\n",
        "|-------------------|\n",
        "| Jupyter Notebook  |\n",
        "| RStudio           |\n",
        "| VS Code           |"
      ],
      "metadata": {
        "id": "FLou0xm6vqPF"
      }
    },
    {
      "cell_type": "markdown",
      "source": [
        "###Below are a few examples of evaluating arithmetic expressions in Python"
      ],
      "metadata": {
        "id": "jQCGTTPQv5IO"
      }
    },
    {
      "cell_type": "code",
      "source": [
        "#This a simple arithmetic expression to mutiply then add integers\n",
        "(3*4)+5"
      ],
      "metadata": {
        "colab": {
          "base_uri": "https://localhost:8080/"
        },
        "id": "r6IVkhjyxnF_",
        "outputId": "9b756338-2c24-45be-825d-32de7b2ec866"
      },
      "execution_count": 2,
      "outputs": [
        {
          "output_type": "execute_result",
          "data": {
            "text/plain": [
              "17"
            ]
          },
          "metadata": {},
          "execution_count": 2
        }
      ]
    },
    {
      "cell_type": "code",
      "source": [
        "#This will convert 200 minutes to hours by diving by 60\n",
        "minutes = 200\n",
        "hours = minutes/60\n",
        "print(hours)"
      ],
      "metadata": {
        "colab": {
          "base_uri": "https://localhost:8080/"
        },
        "id": "3XQmrG02x354",
        "outputId": "814d37cd-c46e-42d1-d494-13020b7a9d9c"
      },
      "execution_count": 4,
      "outputs": [
        {
          "output_type": "stream",
          "name": "stdout",
          "text": [
            "3.3333333333333335\n"
          ]
        }
      ]
    }
  ]
}